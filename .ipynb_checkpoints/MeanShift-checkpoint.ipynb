{
 "cells": [
  {
   "cell_type": "code",
   "execution_count": null,
   "metadata": {},
   "outputs": [],
   "source": [
    "import numpy as np"
   ]
  },
  {
   "cell_type": "code",
   "execution_count": null,
   "metadata": {},
   "outputs": [],
   "source": [
    "import scipy.spatial"
   ]
  },
  {
   "cell_type": "code",
   "execution_count": null,
   "metadata": {},
   "outputs": [],
   "source": [
    "data = np.loadtxt(\"input.txt\")"
   ]
  },
  {
   "cell_type": "code",
   "execution_count": null,
   "metadata": {},
   "outputs": [],
   "source": [
    "X = data\n",
    "X"
   ]
  },
  {
   "cell_type": "code",
   "execution_count": null,
   "metadata": {},
   "outputs": [],
   "source": [
    "freq = 0.7\n",
    "for jj in range(10):\n",
    "    S = scipy.spatial.distance.pdist(X, 'sqeuclidean') / (freq ** 2)\n",
    "    S = scipy.spatial.distance.squareform(S, force='no', checks=True)\n",
    "    W = np.exp(-0.5 * S)\n",
    "    d = W.sum(axis = 0)\n",
    "    for i in range(len(X)):\n",
    "        W[i, :] = W[i, :] / d[i]\n",
    "    X = W.dot(X)\n",
    "X"
   ]
  },
  {
   "cell_type": "code",
   "execution_count": null,
   "metadata": {},
   "outputs": [],
   "source": [
    "S = scipy.spatial.distance.pdist(X, 'sqeuclidean')\n",
    "S = scipy.spatial.distance.squareform(S, force='no', checks=True)"
   ]
  },
  {
   "cell_type": "code",
   "execution_count": null,
   "metadata": {},
   "outputs": [],
   "source": [
    "mask = np.zeros(len(X))"
   ]
  },
  {
   "cell_type": "code",
   "execution_count": null,
   "metadata": {},
   "outputs": [],
   "source": [
    "cls = 1\n",
    "\n",
    "for i in range(len(mask)):\n",
    "    if mask[i]:\n",
    "        continue\n",
    "    mask[i] = cls\n",
    "    for j in range(i + 1, len(mask)):\n",
    "        if mask[j]:\n",
    "            continue\n",
    "        if S[i][j] < 0.1:\n",
    "            mask[j] = cls\n",
    "    cls += 1"
   ]
  },
  {
   "cell_type": "code",
   "execution_count": null,
   "metadata": {},
   "outputs": [],
   "source": [
    "mask"
   ]
  },
  {
   "cell_type": "code",
   "execution_count": null,
   "metadata": {},
   "outputs": [],
   "source": []
  }
 ],
 "metadata": {
  "kernelspec": {
   "display_name": "Python 2",
   "language": "python",
   "name": "python2"
  },
  "language_info": {
   "codemirror_mode": {
    "name": "ipython",
    "version": 2
   },
   "file_extension": ".py",
   "mimetype": "text/x-python",
   "name": "python",
   "nbconvert_exporter": "python",
   "pygments_lexer": "ipython2",
   "version": "2.7.15"
  }
 },
 "nbformat": 4,
 "nbformat_minor": 2
}
