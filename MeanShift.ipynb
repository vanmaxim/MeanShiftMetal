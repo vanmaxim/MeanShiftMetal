{
 "cells": [
  {
   "cell_type": "code",
   "execution_count": 217,
   "metadata": {},
   "outputs": [],
   "source": [
    "import numpy as np"
   ]
  },
  {
   "cell_type": "code",
   "execution_count": 218,
   "metadata": {},
   "outputs": [],
   "source": [
    "import scipy.spatial"
   ]
  },
  {
   "cell_type": "code",
   "execution_count": 219,
   "metadata": {},
   "outputs": [],
   "source": [
    "data = np.loadtxt(\"input.txt\")"
   ]
  },
  {
   "cell_type": "code",
   "execution_count": 220,
   "metadata": {},
   "outputs": [
    {
     "name": "stdout",
     "output_type": "stream",
     "text": [
      "[[ 5.31664467 -1.71114659  0.33101797  0.35269514]\n",
      " [ 5.92060757 -2.15461087  0.12105119  0.33576825]\n",
      " [ 3.99278021 -1.83245444 -2.43630505  1.6973623 ]\n",
      " ...\n",
      " [ 1.12439692  2.56058431  3.90159178  2.24084592]\n",
      " [ 1.1100539   2.46704149  3.96049976  2.2876184 ]\n",
      " [ 1.119699    2.34520769  3.83603096  2.37179136]]\n"
     ]
    }
   ],
   "source": [
    "print(data)"
   ]
  },
  {
   "cell_type": "code",
   "execution_count": 221,
   "metadata": {},
   "outputs": [],
   "source": [
    "X = data"
   ]
  },
  {
   "cell_type": "code",
   "execution_count": 222,
   "metadata": {},
   "outputs": [],
   "source": [
    "freq = 0.7"
   ]
  },
  {
   "cell_type": "code",
   "execution_count": 223,
   "metadata": {},
   "outputs": [],
   "source": [
    "for jj in range(10):\n",
    "    S = scipy.spatial.distance.pdist(X, 'sqeuclidean') / (freq ** 2)\n",
    "    S = scipy.spatial.distance.squareform(S, force='no', checks=True)\n",
    "\n",
    "    W = np.exp(-0.5 * S)\n",
    "    d = W.sum(axis = 0)\n",
    "    for i in range(len(X)):\n",
    "        W[i, :] = W[i, :] / d[i]\n",
    "    X = W.dot(X)"
   ]
  },
  {
   "cell_type": "code",
   "execution_count": 224,
   "metadata": {},
   "outputs": [
    {
     "name": "stdout",
     "output_type": "stream",
     "text": [
      "[[ 5.16981564 -2.12490052 -2.06759638  1.98757385]\n",
      " [ 5.16981564 -2.12490052 -2.06759638  1.98757385]\n",
      " [ 5.16981564 -2.12490052 -2.06759638  1.98757385]\n",
      " ...\n",
      " [ 1.86964187  2.46691048  2.6461041   1.81257716]\n",
      " [ 1.86964187  2.46691048  2.6461041   1.81257716]\n",
      " [ 1.86964187  2.46691048  2.6461041   1.81257716]]\n"
     ]
    }
   ],
   "source": [
    "print(X)"
   ]
  },
  {
   "cell_type": "code",
   "execution_count": null,
   "metadata": {},
   "outputs": [],
   "source": []
  }
 ],
 "metadata": {
  "kernelspec": {
   "display_name": "Python 2",
   "language": "python",
   "name": "python2"
  },
  "language_info": {
   "codemirror_mode": {
    "name": "ipython",
    "version": 2
   },
   "file_extension": ".py",
   "mimetype": "text/x-python",
   "name": "python",
   "nbconvert_exporter": "python",
   "pygments_lexer": "ipython2",
   "version": "2.7.15"
  }
 },
 "nbformat": 4,
 "nbformat_minor": 2
}
